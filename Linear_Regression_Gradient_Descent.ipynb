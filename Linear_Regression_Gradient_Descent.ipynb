{
  "nbformat": 4,
  "nbformat_minor": 0,
  "metadata": {
    "colab": {
      "name": "Linear Regression - Gradient Descent.ipynb",
      "provenance": [],
      "collapsed_sections": []
    },
    "kernelspec": {
      "name": "python3",
      "display_name": "Python 3"
    }
  },
  "cells": [
    {
      "cell_type": "markdown",
      "metadata": {
        "id": "jydzQFEAYwRU"
      },
      "source": [
        "## 1. Prepare Data"
      ]
    },
    {
      "cell_type": "code",
      "metadata": {
        "id": "CJcN-6F1Y09G"
      },
      "source": [
        "import numpy as np\n",
        "from sklearn.model_selection import train_test_split\n",
        "from sklearn import datasets\n",
        "import matplotlib.pyplot as plt"
      ],
      "execution_count": null,
      "outputs": []
    },
    {
      "cell_type": "code",
      "metadata": {
        "id": "1BIAbZJbYpo5"
      },
      "source": [
        "X, y = datasets.make_blobs(n_samples=1000, n_features=2, cluster_std=1.05, random_state=2)\n",
        "X_train, X_test, y_train, y_test = train_test_split(X, y, test_size=0.2, random_state=123)"
      ],
      "execution_count": null,
      "outputs": []
    },
    {
      "cell_type": "markdown",
      "metadata": {
        "id": "1qvsnak4ZEdm"
      },
      "source": [
        "## 2. Code"
      ]
    },
    {
      "cell_type": "code",
      "metadata": {
        "id": "vE028X4r2r1m"
      },
      "source": [
        "class LinearRegression:\n",
        "\n",
        "  def __init__(self, n_epochs=100, learning_rate = 0.01):\n",
        "    \"\"\" Initialize the attributes \"\"\"\n",
        "\n",
        "    self.weights = None\n",
        "    self.bias = None\n",
        "    self.learning_rate = learning_rate\n",
        "    self.n_epochs = n_epochs\n",
        "    self.epoch_error = 0\n",
        "    self.epoch_errors = []\n",
        "  \n",
        "  def fit(self, X, y):\n",
        "    \"\"\" Find the weights and biases given the training data \"\"\"\n",
        "\n",
        "    n_records = X.shape[0]\n",
        "    n_features = X.shape[1]\n",
        "    self.update_helper = 1/n_records\n",
        "    self.weights = np.zeros(n_features)\n",
        "    self.bias = 0\n",
        "    self.sum_squared_error = 0\n",
        "\n",
        "    for i in range(self.n_epochs):\n",
        "      self.epoch_errors.append(self.epoch_error)\n",
        "      self.weights, self.bias, self.epoch_error = self.update_weights(X, y, self.weights, self.bias)\n",
        "    return self.weights, self.bias, self.epoch_errors\n",
        "  \n",
        "  def update_weights(self, X, y, weights, bias):\n",
        "    \"\"\" The helper function of the fit() method that provide weights\n",
        "    and biases for each epoch \"\"\"\n",
        "\n",
        "    sum_squared_error = 0\n",
        "    predictions = np.dot(X, self.weights) + self.bias\n",
        "    error = predictions - y\n",
        "    updated_weights = (self.update_helper * np.dot(X.T, error)) * self.learning_rate\n",
        "    updated_bias = (self.update_helper * np.sum(error)) * self.learning_rate\n",
        "    mse = np.mean(error**2)\n",
        "    return updated_weights, updated_bias, mse\n",
        "\n",
        "  def predict(self, X_test):\n",
        "    \"\"\" Given a set of test data records predict the y vector\"\"\"\n",
        "\n",
        "    predictions = np.dot(X_test, self.weights) + self.bias\n",
        "    return predictions\n",
        "  \n",
        "  def score(self, y, predictions):\n",
        "    \"\"\" Find the accuracy of the predictions made by the predict method \"\"\"\n",
        "\n",
        "    return np.mean((y - predictions)**2)\n",
        "  \n",
        "  def feature_importance(self, X, y):\n",
        "    \"\"\" Provide the feature importances on a graph\"\"\"\n",
        "\n",
        "    self.weights, self.bias, self.epoch_errors = self.fit(X, y)\n",
        "    weights_list = []\n",
        "    feature_list = []\n",
        "    f = 0\n",
        "    for i in range(len(self.weights)):\n",
        "      f += 1\n",
        "      feature_list.append(f)\n",
        "    for i in self.weights:\n",
        "      weights_list.append(i)\n",
        "    \n",
        "    plt.scatter(feature_list, weights_list)\n",
        "    plt.ylabel('Weights')\n",
        "    plt.xlabel('Features')\n",
        "    plt.show()\n",
        "\n",
        "\n",
        "    "
      ],
      "execution_count": null,
      "outputs": []
    },
    {
      "cell_type": "code",
      "metadata": {
        "id": "Z7e0OIr_-7iG",
        "outputId": "4737d3d9-c5e8-4273-d342-28d646c5a16f",
        "colab": {
          "base_uri": "https://localhost:8080/",
          "height": 451
        }
      },
      "source": [
        "obj = LinearRegression(1000,0.001)\n",
        "obj.fit(X_train, y_train)\n",
        "predictions = obj.predict(X_test)\n",
        "accuracy = obj.score(y_test,predictions)\n",
        "obj.feature_importance(X_train, y_train)"
      ],
      "execution_count": null,
      "outputs": [
        {
          "output_type": "display_data",
          "data": {
            "image/png": "[encoded data removed]",
            "text/plain": [
              "<Figure size 640x480 with 1 Axes>"
            ]
          },
          "metadata": {
            "tags": []
          }
        }
      ]
    },
    {
      "cell_type": "code",
      "metadata": {
        "id": "6BmZFDF3V9XT"
      },
      "source": [
        ""
      ],
      "execution_count": null,
      "outputs": []
    }
  ]
}