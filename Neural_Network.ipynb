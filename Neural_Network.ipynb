{
  "nbformat": 4,
  "nbformat_minor": 0,
  "metadata": {
    "colab": {
      "name": "Neural Network.ipynb",
      "provenance": [],
      "collapsed_sections": []
    },
    "kernelspec": {
      "name": "python3",
      "display_name": "Python 3"
    }
  },
  "cells": [
    {
      "cell_type": "code",
      "metadata": {
        "id": "lrzmbROQ2iiO"
      },
      "source": [
        "import numpy as np\n",
        "import math"
      ],
      "execution_count": 28,
      "outputs": []
    },
    {
      "cell_type": "markdown",
      "metadata": {
        "id": "v9C_XtVWYrd2"
      },
      "source": [
        "### 1. Helper functions"
      ]
    },
    {
      "cell_type": "code",
      "metadata": {
        "id": "AiFpRVY1YLvs"
      },
      "source": [
        "def sigmoid(t):\n",
        "  \"\"\" Take the output of the model and smoothen it \"\"\"\n",
        "  result = 1 / (1 + math.exp(-t))\n",
        "  return result"
      ],
      "execution_count": 29,
      "outputs": []
    },
    {
      "cell_type": "code",
      "metadata": {
        "id": "dGsK3pDEbWEO"
      },
      "source": [
        "def neuron_output(weights, inputs):\n",
        "  \"\"\" Hidden neuron output \"\"\"\n",
        "\n",
        "  # Given the inputs and weights of a model it returns the output of one hidden neuron or result of one model\n",
        "  result = sigmoid(np.dot(weights, inputs))\n",
        "  return result\n"
      ],
      "execution_count": 30,
      "outputs": []
    },
    {
      "cell_type": "code",
      "metadata": {
        "id": "19qJjwpMbq9y"
      },
      "source": [
        "def feed_forward(neural_network, input_vector):\n",
        "\n",
        "  # neural netowrk is the list of list of weights of each model or neuron\n",
        "\n",
        "  outputs = []\n",
        "\n",
        "  # Take each model in the layer, calculate the output and update it in the outputs list\n",
        "  # Make this output the input vector for the next layer\n",
        "  for layer in neural_network:\n",
        "    input_with_bias = input_vector + [1]\n",
        "    # For a sublist in list of lists, calculate the result of the model and store in output\n",
        "    output = [neuron_output(neuron, input_with_bias) for neuron in layer]\n",
        "    # Append the outputs list with the result of the model\n",
        "    outputs.append(output)\n",
        "\n",
        "    input_vector = output\n",
        "  return outputs"
      ],
      "execution_count": 31,
      "outputs": []
    },
    {
      "cell_type": "code",
      "metadata": {
        "id": "MzQH1DMs7CYx"
      },
      "source": [
        "def backpropogate(network, input_vector, targets):\n",
        "\n",
        "  hidden_outputs, outputs = feed_forward(network, input_vector)\n",
        "\n",
        "  # Output gradients for each final outputs\n",
        "  output_deltas = [output * (1 - output) * (output - target) for output, target in zip(outputs, targets)]\n",
        "\n",
        "  # For each neuron in the output layer, adjust the weights\n",
        "  for i, output_neuron in enumerate(network[-1]):\n",
        "    # for the current output neuron, select the same ith neuron in the hidden layer\n",
        "    for j, hidden_output in enumerate(hidden_outputs + [1]):\n",
        "      output_neuron[j] -= output_deltas[i] * hidden_output"
      ],
      "execution_count": 35,
      "outputs": []
    },
    {
      "cell_type": "markdown",
      "metadata": {
        "id": "yPGk9nHk7Dsv"
      },
      "source": [
        "### 2. Feed forward"
      ]
    },
    {
      "cell_type": "code",
      "metadata": {
        "id": "4z4JhREAfr66"
      },
      "source": [
        "xor_network = [# hidden layer\n",
        "               [[20, 20, -30], # AND neuron\n",
        "                [20, 20, -10]], # OR neuron\n",
        "               # output layer\n",
        "               [[-60, 60, -30]]]"
      ],
      "execution_count": 32,
      "outputs": []
    },
    {
      "cell_type": "code",
      "metadata": {
        "id": "aUP6B6wTztwL",
        "outputId": "7e72a89e-1e42-4817-8387-26db17b949d7",
        "colab": {
          "base_uri": "https://localhost:8080/"
        }
      },
      "source": [
        "for x in [0,1]:\n",
        "  for y in [0,1]:dot\n",
        "    print(x, y, feed_forward(xor_network, [x, y])[-1])"
      ],
      "execution_count": 34,
      "outputs": [
        {
          "output_type": "stream",
          "text": [
            "0 0 [9.38314668300676e-14]\n",
            "0 1 [0.9999999999999059]\n",
            "1 0 [0.9999999999999059]\n",
            "1 1 [9.383146683006828e-14]\n"
          ],
          "name": "stdout"
        }
      ]
    },
    {
      "cell_type": "code",
      "metadata": {
        "id": "OVmbjGXj1ShM"
      },
      "source": [
        ""
      ],
      "execution_count": 33,
      "outputs": []
    }
  ]
}